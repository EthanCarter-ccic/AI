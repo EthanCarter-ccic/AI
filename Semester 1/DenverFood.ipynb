{
 "cells": [
  {
   "cell_type": "markdown",
   "id": "2fa28ff7-44f3-447a-8be5-e24b17306b1b",
   "metadata": {
    "editable": true,
    "slideshow": {
     "slide_type": ""
    },
    "tags": []
   },
   "source": [
    "# My question is which restaurants have an unusually high amount of Google reviews compared to Yelp reviews, or vice versa.\n",
    "# I think an observational study is best for this, as we won't be doing any modification of existing data.\n",
    "# I will examine a sample of Denver restaurants that are present on both Google and Yelp.\n",
    "# I will use the dataset curated by Sonia Spindt, my teacher, which contains Google and Yelp review metadata for 75 restaurants in Denver."
   ]
  },
  {
   "cell_type": "code",
   "execution_count": null,
   "id": "7d0d24d8-b0e9-4911-8cc7-1fa758d37416",
   "metadata": {},
   "outputs": [],
   "source": [
    "import pandas as pd\n",
    "import numpy as np\n",
    "import seaborn as sns\n",
    "\n",
    "ramen_df = pd.read_csv(\"ramen.csv\")\n",
    "\n"
   ]
  }
 ],
 "metadata": {
  "kernelspec": {
   "display_name": "anaconda-ai-2024.04-py310",
   "language": "python",
   "name": "conda-env-anaconda-ai-2024.04-py310-py"
  },
  "language_info": {
   "codemirror_mode": {
    "name": "ipython",
    "version": 3
   },
   "file_extension": ".py",
   "mimetype": "text/x-python",
   "name": "python",
   "nbconvert_exporter": "python",
   "pygments_lexer": "ipython3",
   "version": "3.10.13"
  }
 },
 "nbformat": 4,
 "nbformat_minor": 5
}

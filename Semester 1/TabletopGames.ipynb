{
 "cells": [
  {
   "cell_type": "markdown",
   "id": "41461b53-3fa3-44cf-9744-ffb0e6f411b0",
   "metadata": {},
   "source": [
    "# My question is about the distribution of valid moves by piece in chess at a few points in the game.\n",
    "# This will be an experiment, as I will play a certain number of random moves to collect some data.\n",
    "# Some data will be collected from the starting position, however."
   ]
  }
 ],
 "metadata": {
  "kernelspec": {
   "display_name": "anaconda-ai-2024.04-py310",
   "language": "python",
   "name": "conda-env-anaconda-ai-2024.04-py310-py"
  },
  "language_info": {
   "codemirror_mode": {
    "name": "ipython",
    "version": 3
   },
   "file_extension": ".py",
   "mimetype": "text/x-python",
   "name": "python",
   "nbconvert_exporter": "python",
   "pygments_lexer": "ipython3",
   "version": "3.10.13"
  }
 },
 "nbformat": 4,
 "nbformat_minor": 5
}

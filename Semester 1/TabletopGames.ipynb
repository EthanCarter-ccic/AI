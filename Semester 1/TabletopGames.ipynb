{
 "cells": [
  {
   "cell_type": "markdown",
   "id": "41461b53-3fa3-44cf-9744-ffb0e6f411b0",
   "metadata": {},
   "source": [
    "# My question is what the probability that a random valid move is a bishop move is in chess.\n",
    "# This will be an experiment, as I will play a certain number of moves in order to collect the data.\n",
    "# The sample space I would be observing is all valid moves that could be played.\n",
    "# One trial of the simulation would be playing a number of moves, selecting a random valid move, and finding if it is a bishop move.\n",
    "# I'm measuring the outcome where a random valid move is a bishop move."
   ]
  },
  {
   "cell_type": "code",
   "execution_count": 20,
   "id": "59d66a10-52f6-43e6-9353-b78ecc7a8e0a",
   "metadata": {},
   "outputs": [
    {
     "name": "stdout",
     "output_type": "stream",
     "text": [
      "Found existing installation: chess 1.11.2\n",
      "Uninstalling chess-1.11.2:\n",
      "  Successfully uninstalled chess-1.11.2\n",
      "Found existing installation: python-chess 1.999\n",
      "Uninstalling python-chess-1.999:\n",
      "  Successfully uninstalled python-chess-1.999\n",
      "Defaulting to user installation because normal site-packages is not writeable\n",
      "Looking in links: /usr/share/pip-wheels\n",
      "Requirement already satisfied: pip in ./.local/lib/python3.10/site-packages (25.2)\n",
      "Defaulting to user installation because normal site-packages is not writeable\n",
      "Looking in links: /usr/share/pip-wheels\n",
      "Collecting python-chess\n",
      "  Using cached python_chess-1.999-py3-none-any.whl.metadata (776 bytes)\n",
      "Collecting chess<2,>=1 (from python-chess)\n",
      "  Using cached chess-1.11.2-py3-none-any.whl\n",
      "Using cached python_chess-1.999-py3-none-any.whl (1.4 kB)\n",
      "Installing collected packages: chess, python-chess\n",
      "\u001b[2K   \u001b[38;5;70m━━━━━━━━━━━━━━━━━━━━━━━━━━━━━━━━━━━━━━━━\u001b[0m \u001b[32m2/2\u001b[0m [python-chess]\n",
      "\u001b[1A\u001b[2KSuccessfully installed chess-1.11.2 python-chess-1.999\n",
      "r n b q k b n r\n",
      "p p p p p p p p\n",
      ". . . . . . . .\n",
      ". . . . . . . .\n",
      ". . . . . . . .\n",
      ". . . . . . . .\n",
      "P P P P P P P P\n",
      "R N B Q K B N R\n"
     ]
    }
   ],
   "source": [
    "import sys\n",
    "import site\n",
    "import chess\n",
    "import random as rand\n",
    "import seaborn as sns\n",
    "import matplotlib.pyplot as plt\n",
    "\n",
    "!{sys.executable} -m pip uninstall -y chess python-chess\n",
    "!{sys.executable} -m pip install --upgrade pip\n",
    "!{sys.executable} -m pip install python-chess\n",
    "\n",
    "if site.USER_SITE not in sys.path:\n",
    "    sys.path.append(site.USER_SITE)\n",
    "\n",
    "board = chess.Board()\n",
    "print(board)"
   ]
  },
  {
   "cell_type": "markdown",
   "id": "acde3366-af9e-4916-ab79-b60c5fbcfc26",
   "metadata": {},
   "source": [
    "# Now that imports are working, let's make code to simulate 1000 trials at 3.5 moves depth using the most common opening, the Open Sicilian.\n",
    "# Then, let's visualize the theoretical vs. empirical probability in a barplot."
   ]
  },
  {
   "cell_type": "code",
   "execution_count": 27,
   "id": "5d95ce39-93af-41ff-9943-e90a5f23abbb",
   "metadata": {},
   "outputs": [
    {
     "name": "stdout",
     "output_type": "stream",
     "text": [
      "Fraction of bishop moves (theoretical): 0.17857142857142858\n",
      "Fraction of bishop moves (empirical): 0.22\n"
     ]
    },
    {
     "name": "stderr",
     "output_type": "stream",
     "text": [
      "/opt/conda/envs/anaconda-ai-2024.04-py310/lib/python3.10/site-packages/seaborn/_oldcore.py:1765: FutureWarning: unique with argument that is not not a Series, Index, ExtensionArray, or np.ndarray is deprecated and will raise in a future version.\n",
      "  order = pd.unique(vector)\n"
     ]
    },
    {
     "data": {
      "image/png": "[encoded data removed]",
      "text/plain": [
       "<Figure size 640x480 with 1 Axes>"
      ]
     },
     "metadata": {},
     "output_type": "display_data"
    }
   ],
   "source": [
    "num_trials = 100\n",
    "\n",
    "total_valid_moves = 0\n",
    "bishop_moves = 0\n",
    "\n",
    "board = chess.Board()\n",
    "board.push_san(\"e4\")\n",
    "board.push_san(\"c5\")\n",
    "board.push_san(\"Nf3\")\n",
    "board.push_san(\"d6\")\n",
    "board.push_san(\"d4\")\n",
    "board.push_san(\"cxd4\")\n",
    "board.push_san(\"Nxd4\")\n",
    "legal_moves = list(board.legal_moves)\n",
    "\n",
    "for trial in range(num_trials):\n",
    "    move = rand.choice(legal_moves)\n",
    "    san_move = board.san(move) # Standard Algebraic Notation (SAN): piece + end square (e.g. Bc4 = bishop to c4)\n",
    "    lan_move = board.lan(move) # Long Algebraic Notation (LAN): start square + end square (e.g. f1c4 = piece on f1 to c4)\n",
    "                               # There is also castling, the only move that can be done with 2 pieces at once, which is O-O or O-O-O\n",
    "                               # Luckily, this does not appear in the Open Sicilian\n",
    "\n",
    "    total_valid_moves += 1\n",
    "    if lan_move.startswith('B'):\n",
    "        bishop_moves += 1\n",
    "\n",
    "print(f\"Fraction of bishop moves (theoretical): {5 / 28}\")\n",
    "print(f\"Fraction of bishop moves (empirical): {bishop_moves / total_valid_moves}\")\n",
    "\n",
    "# Values to plot\n",
    "values = [5 / 28, bishop_moves / total_valid_moves]\n",
    "labels = ['Theoretical', 'Empirical']\n",
    "\n",
    "# Create bar plot\n",
    "sns.barplot(x=labels, y=values, palette=\"viridis\")\n",
    "\n",
    "plt.ylabel('Probability')\n",
    "plt.title('Comparison of Two Ratios')\n",
    "plt.show()"
   ]
  },
  {
   "cell_type": "markdown",
   "id": "62e37106-4b15-4579-81d6-335f0678366b",
   "metadata": {},
   "source": [
    "# Conclusion: The probability a random valid move is a bishop move is around 0.179 according to the Open Sicilian, the most common opening.\n",
    "# The empirical probability is slightly different, and differs depending on the number of trials (in this simulation, 0.22).\n",
    "# As the number of trials increases, the empirical probability would gradually converge on 0.179.\n",
    "# This is because the empirical probability is effectively an approximation of the theoretical probability plus or minus some variance.\n",
    "# Increasing the number of trials reduces the effect of variance, making it gradually more accurate."
   ]
  }
 ],
 "metadata": {
  "kernelspec": {
   "display_name": "anaconda-ai-2024.04-py310",
   "language": "python",
   "name": "conda-env-anaconda-ai-2024.04-py310-py"
  },
  "language_info": {
   "codemirror_mode": {
    "name": "ipython",
    "version": 3
   },
   "file_extension": ".py",
   "mimetype": "text/x-python",
   "name": "python",
   "nbconvert_exporter": "python",
   "pygments_lexer": "ipython3",
   "version": "3.10.13"
  }
 },
 "nbformat": 4,
 "nbformat_minor": 5
}

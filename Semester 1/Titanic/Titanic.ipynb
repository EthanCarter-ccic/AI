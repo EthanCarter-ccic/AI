{
 "cells": [
  {
   "cell_type": "markdown",
   "id": "d359fbbf-7748-47ce-8a8a-ab57e16f0801",
   "metadata": {},
   "source": [
    "# My question was whether people who had family members aboard were more or less likely to survive.\n",
    "# I think an observational study is more fit to this, specifically a retrospective study.\n",
    "# I will use a census, as we will need to collect data from every passenger in order to answer this question.\n",
    "# We can look at each passenger, and perform a simple logical check to make two groups depending on if each passenger had family aboard.\n",
    "# This can be done using the SibSp (siblings/spouses aboard) and Parch (parents/children aboard) columns.\n",
    "# Then, we can look at the Survived column to see which group was more likely to survive."
   ]
  },
  {
   "cell_type": "code",
   "execution_count": 19,
   "id": "04881ac9-53f8-4124-9b59-93bbc5ebe7bc",
   "metadata": {},
   "outputs": [
    {
     "name": "stdout",
     "output_type": "stream",
     "text": [
      "Survival rate with family members aboard: 0.5056497175141242\n",
      "Survival rate without family members aboard: 0.30353817504655495\n"
     ]
    }
   ],
   "source": [
    "import pandas as pd\n",
    "\n",
    "titanic_df = pd.read_csv(\"train.csv\")\n",
    "\n",
    "passengers_w_family = {}\n",
    "passengers_wo_family = {}\n",
    "\n",
    "for p_ind in range(len(titanic_df)):\n",
    "    if titanic_df['SibSp'].iloc[p_ind] > 0 or titanic_df['Parch'].iloc[p_ind] > 0:\n",
    "        passengers_w_family[p_ind] = titanic_df['Survived'].iloc[p_ind]\n",
    "    else:\n",
    "        passengers_wo_family[p_ind] = titanic_df['Survived'].iloc[p_ind]\n",
    "\n",
    "survival_rate_w_family = 0\n",
    "counter = 0\n",
    "for p_ind, survived in passengers_w_family.items():\n",
    "    survival_rate_w_family += survived\n",
    "    counter += 1\n",
    "survival_rate_w_family /= counter\n",
    "\n",
    "survival_rate_wo_family = 0\n",
    "counter = 0\n",
    "for p_ind, survived in passengers_wo_family.items():\n",
    "    survival_rate_wo_family += survived\n",
    "    counter += 1\n",
    "survival_rate_wo_family /= counter\n",
    "\n",
    "print(\"Survival rate with family members aboard:\", survival_rate_w_family)\n",
    "print(\"Survival rate without family members aboard:\", survival_rate_wo_family)"
   ]
  },
  {
   "cell_type": "markdown",
   "id": "4f222ac0-ad25-444a-9a66-9e8f6ed703d4",
   "metadata": {},
   "source": [
    "# Conclusion: Passengers with family members aboard were more likely to survive.\n",
    "# Specifically, passengers with family members aboard had an ~50% chance to survive.\n",
    "# Meanwhile, passengers without family members aboard had an ~30% chance to survive.\n",
    "# Our results may be biased as we used the Kaggle dataset, which contains more data about rich and well-known passengers.\n",
    "# It also may not contain data about stowaways or crew members.\n",
    "# It is unknown if rich or poor passengers were more likely to bring their families with them aboard the Titanic.\n",
    "# Nonetheless, this introduces a notable bias that may make our conclusions less reliable."
   ]
  }
 ],
 "metadata": {
  "kernelspec": {
   "display_name": "anaconda-ai-2024.04-py310",
   "language": "python",
   "name": "conda-env-anaconda-ai-2024.04-py310-py"
  },
  "language_info": {
   "codemirror_mode": {
    "name": "ipython",
    "version": 3
   },
   "file_extension": ".py",
   "mimetype": "text/x-python",
   "name": "python",
   "nbconvert_exporter": "python",
   "pygments_lexer": "ipython3",
   "version": "3.10.13"
  }
 },
 "nbformat": 4,
 "nbformat_minor": 5
}
